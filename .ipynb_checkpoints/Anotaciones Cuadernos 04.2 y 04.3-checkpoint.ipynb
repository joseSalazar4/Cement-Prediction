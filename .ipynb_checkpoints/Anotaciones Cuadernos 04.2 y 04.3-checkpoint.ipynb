{
 "cells": [
  {
   "cell_type": "markdown",
   "id": "ce518035",
   "metadata": {},
   "source": [
    "## Eliminar Atributos correlacionados"
   ]
  },
  {
   "cell_type": "markdown",
   "id": "44ac3cee",
   "metadata": {},
   "source": [
    "Los métodos básicos de selección de atributos empleando una combinación de constante, quasi-constante y metodos de correlación"
   ]
  },
  {
   "cell_type": "markdown",
   "id": "49763a53",
   "metadata": {},
   "source": [
    "## Eliminar Atributos correlacionados"
   ]
  },
  {
   "cell_type": "markdown",
   "id": "f69feada",
   "metadata": {},
   "source": [
    "El primer método es eliminar los atributos constantes al recorrer cada atributo en el _X_Train_ y si la desviación standard es igual a 0 entonces no está aportando ya que tiene el mismo elemento repetido."
   ]
  },
  {
   "cell_type": "markdown",
   "id": "761d7179",
   "metadata": {},
   "source": [
    "## Eliminar Atributos correlacionados"
   ]
  },
  {
   "cell_type": "markdown",
   "id": "4cb17a44",
   "metadata": {},
   "source": [
    "En el caso en el que una gran mayoría, 99% de las observaciones, sean identicas podríamos emplear _VarianceThreshold_ e indicamos el porcentaje que permitimos que sea diferente. \n",
    "\n",
    "Hacemos fit, transform y volvemos a asignar al train y test estos valores. Al usar este método es necesario guardar el nombre de los atributos para pasar de numpy array a Dataframe y asignar estos nombres"
   ]
  },
  {
   "cell_type": "markdown",
   "id": "1e081bf6",
   "metadata": {},
   "source": [
    "## Eliminar Atributos correlacionados"
   ]
  },
  {
   "cell_type": "markdown",
   "id": "1f594211",
   "metadata": {},
   "source": [
    "Eliminar Atributos correlacionados"
   ]
  },
  {
   "cell_type": "markdown",
   "id": "6cdaf915",
   "metadata": {},
   "source": []
  },
  {
   "cell_type": "markdown",
   "id": "7254ed3c",
   "metadata": {},
   "source": [
    "## Rendimiento"
   ]
  },
  {
   "cell_type": "markdown",
   "id": "f20c95cc",
   "metadata": {},
   "source": [
    "Al comparar el rendimiento con modelos de machine learning observamos que no hay diferencias significativas en el rendimiento y nos aseguramos de que el modelo que se genera ha sido creado con un conjunto de datos que es de mayor calidad y evita problemas a futuro. "
   ]
  }
 ],
 "metadata": {
  "kernelspec": {
   "display_name": "Python 3 (ipykernel)",
   "language": "python",
   "name": "python3"
  },
  "language_info": {
   "codemirror_mode": {
    "name": "ipython",
    "version": 3
   },
   "file_extension": ".py",
   "mimetype": "text/x-python",
   "name": "python",
   "nbconvert_exporter": "python",
   "pygments_lexer": "ipython3",
   "version": "3.9.5"
  }
 },
 "nbformat": 4,
 "nbformat_minor": 5
}
