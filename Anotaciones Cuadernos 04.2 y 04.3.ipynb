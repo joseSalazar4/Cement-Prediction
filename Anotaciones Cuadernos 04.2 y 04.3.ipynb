{
 "cells": [
  {
   "cell_type": "markdown",
   "id": "7122f47e",
   "metadata": {},
   "source": [
    "## Métodos básicos y correlación\n"
   ]
  },
  {
   "cell_type": "markdown",
   "id": "39299139",
   "metadata": {},
   "source": [
    "Los métodos básicos de selección de atributos empleando una combinación de eliminación de atributos constantes, cuasi-constantes y metodos de correlación"
   ]
  },
  {
   "cell_type": "markdown",
   "id": "7d901719",
   "metadata": {},
   "source": [
    "## Eliminar Atributos Constantes"
   ]
  },
  {
   "cell_type": "markdown",
   "id": "bd217377",
   "metadata": {},
   "source": [
    "El primer método es eliminar los atributos constantes al recorrer cada atributo en el _X_Train_ y si la desviación standard es igual a 0 entonces no está aportando ya que tiene el mismo elemento repetido en toda la columna. Estos atributo no genera ninguna variación de resultados. Por esto mismo es que se eliminan por completo del dataset \n",
    "\n",
    "Esto quiere decir que el dataset puede reducir en tamaño y al mismo tiempo se reduce el poder computacional necesario para procesar los cálculos del mismo"
   ]
  },
  {
   "cell_type": "markdown",
   "id": "b6b869cb",
   "metadata": {},
   "source": [
    "## Eliminar Atributos Cuasi-Constantes"
   ]
  },
  {
   "cell_type": "markdown",
   "id": "752557e1",
   "metadata": {},
   "source": [
    "En el caso en el que una gran mayoría, 99% de las observaciones, sean identicas podríamos emplear _VarianceThreshold_ e indicamos el porcentaje que permitimos que sea diferente. \n",
    "\n",
    "Hacemos fit, transform y volvemos a asignar al train y test estos valores. Al usar este método es necesario guardar el nombre de los atributos para pasar de numpy array a Dataframe y asignar estos nombres\n",
    "\n",
    "Estos atributo no genera ninguna o muy poca variación de resultados por lo que no debe ser seleccionada. \n",
    "\n",
    "Esto quiere decir que el dataset puede reducir en tamaño y al mismo tiempo se reduce el poder computacional necesario para procesar los cálculos del mismo"
   ]
  },
  {
   "cell_type": "markdown",
   "id": "4506eedb",
   "metadata": {},
   "source": [
    "## Eliminar Atributos Duplicados"
   ]
  },
  {
   "cell_type": "markdown",
   "id": "89b02007",
   "metadata": {},
   "source": [
    "Si un dataset es muy grande puede que algunas columnas sean las mismas y los datos estén duplicados, resultado de que se unificaron varias fuentes o simplemente un error al construir el dataset. Por esto mismo es que recorremos cada columna y verificamos si esta es idéntica a las anteriores, en dado caso la agregamos a una lista de columnas duplicadas y luego hacemos un drop in place.\n",
    "\n",
    "La razón de eliminarlos recae en que complica aplicar otros métodos de limpieza y mientras más grande el dataset más espacio se desperdicia y puede generar un gasto computacional. "
   ]
  },
  {
   "cell_type": "markdown",
   "id": "be15b6ab",
   "metadata": {},
   "source": [
    "## Eliminar Atributos Correlacionados"
   ]
  },
  {
   "cell_type": "markdown",
   "id": "fba910e0",
   "metadata": {},
   "source": [
    "Los atributos correlacionados altamente pueden producir efectos negativos en el sentido de que otras relaciones pueden no denotarse tanto al sobresalir estas. Es importante denotar que solo se eliminan los atributos que tienen correlación alta\n",
    "\n",
    "En general se busca que no existan este tipo de eventos, aunque depende un poco del tipo de modelo que se empleé ya que multicolinealidad puede ser un aspecto que no produzca un buen modelo de regresión lineal. Lo mismo puede suceder con otros modelos al permitir este efecto. "
   ]
  },
  {
   "cell_type": "markdown",
   "id": "dec6370e",
   "metadata": {},
   "source": [
    "## Rendimiento"
   ]
  },
  {
   "cell_type": "markdown",
   "id": "48973ba1",
   "metadata": {},
   "source": [
    "Al comparar el rendimiento con modelos de machine learning observamos que no hay diferencias significativas en el rendimiento y nos aseguramos de que el modelo que se genera ha sido creado con un conjunto de datos que es de mayor calidad y evita problemas a futuro. "
   ]
  }
 ],
 "metadata": {
  "kernelspec": {
   "display_name": "Python 3 (ipykernel)",
   "language": "python",
   "name": "python3"
  },
  "language_info": {
   "codemirror_mode": {
    "name": "ipython",
    "version": 3
   },
   "file_extension": ".py",
   "mimetype": "text/x-python",
   "name": "python",
   "nbconvert_exporter": "python",
   "pygments_lexer": "ipython3",
   "version": "3.9.5"
  }
 },
 "nbformat": 4,
 "nbformat_minor": 5
}
